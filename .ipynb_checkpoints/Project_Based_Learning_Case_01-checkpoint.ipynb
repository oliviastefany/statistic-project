{
 "cells": [
  {
   "cell_type": "code",
   "execution_count": 2,
   "id": "8baabcf1-7d55-440a-be50-dd221945fc20",
   "metadata": {},
   "outputs": [],
   "source": [
    "import pandas as pd\n",
    "import numpy as np\n"
   ]
  },
  {
   "cell_type": "code",
   "execution_count": 3,
   "id": "bf2ab3ae-c98d-48cf-a809-e4b4f5532167",
   "metadata": {},
   "outputs": [],
   "source": [
    "data_number= [100,150,50,100,130,120,100,85,70,150,150,120,50,100,100,140,90,150,50,90,120,100,110,75,65]"
   ]
  },
  {
   "cell_type": "code",
   "execution_count": 4,
   "id": "02eaa672-6672-48ce-b536-507e55cc857c",
   "metadata": {},
   "outputs": [
    {
     "data": {
      "text/html": [
       "<div>\n",
       "<style scoped>\n",
       "    .dataframe tbody tr th:only-of-type {\n",
       "        vertical-align: middle;\n",
       "    }\n",
       "\n",
       "    .dataframe tbody tr th {\n",
       "        vertical-align: top;\n",
       "    }\n",
       "\n",
       "    .dataframe thead th {\n",
       "        text-align: right;\n",
       "    }\n",
       "</style>\n",
       "<table border=\"1\" class=\"dataframe\">\n",
       "  <thead>\n",
       "    <tr style=\"text-align: right;\">\n",
       "      <th></th>\n",
       "      <th>TransactionAmount</th>\n",
       "    </tr>\n",
       "  </thead>\n",
       "  <tbody>\n",
       "    <tr>\n",
       "      <th>0</th>\n",
       "      <td>100</td>\n",
       "    </tr>\n",
       "    <tr>\n",
       "      <th>1</th>\n",
       "      <td>150</td>\n",
       "    </tr>\n",
       "    <tr>\n",
       "      <th>2</th>\n",
       "      <td>50</td>\n",
       "    </tr>\n",
       "    <tr>\n",
       "      <th>3</th>\n",
       "      <td>100</td>\n",
       "    </tr>\n",
       "    <tr>\n",
       "      <th>4</th>\n",
       "      <td>130</td>\n",
       "    </tr>\n",
       "    <tr>\n",
       "      <th>5</th>\n",
       "      <td>120</td>\n",
       "    </tr>\n",
       "    <tr>\n",
       "      <th>6</th>\n",
       "      <td>100</td>\n",
       "    </tr>\n",
       "    <tr>\n",
       "      <th>7</th>\n",
       "      <td>85</td>\n",
       "    </tr>\n",
       "    <tr>\n",
       "      <th>8</th>\n",
       "      <td>70</td>\n",
       "    </tr>\n",
       "    <tr>\n",
       "      <th>9</th>\n",
       "      <td>150</td>\n",
       "    </tr>\n",
       "    <tr>\n",
       "      <th>10</th>\n",
       "      <td>150</td>\n",
       "    </tr>\n",
       "    <tr>\n",
       "      <th>11</th>\n",
       "      <td>120</td>\n",
       "    </tr>\n",
       "    <tr>\n",
       "      <th>12</th>\n",
       "      <td>50</td>\n",
       "    </tr>\n",
       "    <tr>\n",
       "      <th>13</th>\n",
       "      <td>100</td>\n",
       "    </tr>\n",
       "    <tr>\n",
       "      <th>14</th>\n",
       "      <td>100</td>\n",
       "    </tr>\n",
       "    <tr>\n",
       "      <th>15</th>\n",
       "      <td>140</td>\n",
       "    </tr>\n",
       "    <tr>\n",
       "      <th>16</th>\n",
       "      <td>90</td>\n",
       "    </tr>\n",
       "    <tr>\n",
       "      <th>17</th>\n",
       "      <td>150</td>\n",
       "    </tr>\n",
       "    <tr>\n",
       "      <th>18</th>\n",
       "      <td>50</td>\n",
       "    </tr>\n",
       "    <tr>\n",
       "      <th>19</th>\n",
       "      <td>90</td>\n",
       "    </tr>\n",
       "    <tr>\n",
       "      <th>20</th>\n",
       "      <td>120</td>\n",
       "    </tr>\n",
       "    <tr>\n",
       "      <th>21</th>\n",
       "      <td>100</td>\n",
       "    </tr>\n",
       "    <tr>\n",
       "      <th>22</th>\n",
       "      <td>110</td>\n",
       "    </tr>\n",
       "    <tr>\n",
       "      <th>23</th>\n",
       "      <td>75</td>\n",
       "    </tr>\n",
       "    <tr>\n",
       "      <th>24</th>\n",
       "      <td>65</td>\n",
       "    </tr>\n",
       "  </tbody>\n",
       "</table>\n",
       "</div>"
      ],
      "text/plain": [
       "    TransactionAmount\n",
       "0                 100\n",
       "1                 150\n",
       "2                  50\n",
       "3                 100\n",
       "4                 130\n",
       "5                 120\n",
       "6                 100\n",
       "7                  85\n",
       "8                  70\n",
       "9                 150\n",
       "10                150\n",
       "11                120\n",
       "12                 50\n",
       "13                100\n",
       "14                100\n",
       "15                140\n",
       "16                 90\n",
       "17                150\n",
       "18                 50\n",
       "19                 90\n",
       "20                120\n",
       "21                100\n",
       "22                110\n",
       "23                 75\n",
       "24                 65"
      ]
     },
     "execution_count": 4,
     "metadata": {},
     "output_type": "execute_result"
    }
   ],
   "source": [
    "df=pd.DataFrame({\"TransactionAmount\":data_number})\n",
    "df\n",
    "\n"
   ]
  },
  {
   "cell_type": "code",
   "execution_count": 5,
   "id": "3c24569c-782f-4086-9f86-e96cdf58c3e2",
   "metadata": {},
   "outputs": [
    {
     "data": {
      "text/plain": [
       "array([[100],\n",
       "       [150],\n",
       "       [ 50],\n",
       "       [100],\n",
       "       [130],\n",
       "       [120],\n",
       "       [100],\n",
       "       [ 85],\n",
       "       [ 70],\n",
       "       [150],\n",
       "       [150],\n",
       "       [120],\n",
       "       [ 50],\n",
       "       [100],\n",
       "       [100],\n",
       "       [140],\n",
       "       [ 90],\n",
       "       [150],\n",
       "       [ 50],\n",
       "       [ 90],\n",
       "       [120],\n",
       "       [100],\n",
       "       [110],\n",
       "       [ 75],\n",
       "       [ 65]])"
      ]
     },
     "execution_count": 5,
     "metadata": {},
     "output_type": "execute_result"
    }
   ],
   "source": [
    "data=np.array(df)\n",
    "data"
   ]
  },
  {
   "cell_type": "code",
   "execution_count": 6,
   "id": "6b4665a3-0bf3-492a-a647-846f815d8992",
   "metadata": {},
   "outputs": [
    {
     "name": "stdout",
     "output_type": "stream",
     "text": [
      "mean: 102.6\n",
      "median: 100.0\n",
      "var: 972.2399999999999\n",
      "std: 31.18076330047101\n",
      "range: 100\n",
      "q1: 85.0\n",
      "q2: 100.0\n",
      "q3: 120.0\n",
      "IQR 35.0\n"
     ]
    }
   ],
   "source": [
    "print(\"mean:\", np.mean(data))\n",
    "print(\"median:\", np.median(data))\n",
    "print(\"var:\", np.var(data))\n",
    "print(\"std:\", np.std(data))\n",
    "print(\"range:\", np.max(data)-np.min(data))\n",
    "print(\"q1:\", np.quantile(data,0.25))\n",
    "print(\"q2:\", np.quantile(data,0.50))\n",
    "print(\"q3:\", np.quantile(data,0.75))\n",
    "print(\"IQR\", np.quantile(data,0.75)-np.quantile(data,0.25))"
   ]
  },
  {
   "cell_type": "code",
   "execution_count": 7,
   "id": "820420ba-a534-40aa-aa50-5f7506bcf131",
   "metadata": {},
   "outputs": [],
   "source": [
    "#T-test\n",
    "import scipy.stats as stats"
   ]
  },
  {
   "cell_type": "code",
   "execution_count": 8,
   "id": "0dc563a7-f1f0-4e97-99be-ddfc20e61c98",
   "metadata": {},
   "outputs": [
    {
     "data": {
      "text/plain": [
       "array([100, 150,  50, 100, 130, 120, 100,  85,  70, 150, 150, 120,  50,\n",
       "       100, 100, 140,  90, 150,  50,  90, 120, 100, 110,  75,  65])"
      ]
     },
     "execution_count": 8,
     "metadata": {},
     "output_type": "execute_result"
    }
   ],
   "source": [
    "data=np.array([100,150,50,100,130,120,100,85,70,150,150,120,50,100,100,140,90,150,50,90,120,100,110,75,65])\n",
    "data"
   ]
  },
  {
   "cell_type": "code",
   "execution_count": 9,
   "id": "ecd8d9e7-18b7-4439-a642-aa4a31bb1bac",
   "metadata": {},
   "outputs": [],
   "source": [
    "#state H0 and H1\n",
    "#H0: Transaction Amount Average = 100\n",
    "#H1: Transaction Amount Average > 100\n",
    "\n"
   ]
  },
  {
   "cell_type": "code",
   "execution_count": 10,
   "id": "ab869d7a-5bac-4563-9f57-0e8ff63fe700",
   "metadata": {},
   "outputs": [
    {
     "data": {
      "text/plain": [
       "TtestResult(statistic=np.float64(0.4085001556802841), pvalue=np.float64(0.6865284813438117), df=np.int64(24))"
      ]
     },
     "execution_count": 10,
     "metadata": {},
     "output_type": "execute_result"
    }
   ],
   "source": [
    "#Define alpha=0.05\n",
    "#Calculate T-Statistics and Perform One Sample T-test\n",
    "stats.ttest_1samp(data, popmean=100)\n",
    "\n"
   ]
  },
  {
   "cell_type": "code",
   "execution_count": 11,
   "id": "bd6f2f9f-4e5d-41c1-8312-60e4c772e5a6",
   "metadata": {},
   "outputs": [],
   "source": [
    "#Statistic= 0.4085001556802841, p-value= 0.6865284813438117\n",
    "#Because the p-value is greater than alpha (0.05), we lack sufficient evidence to reject H0."
   ]
  },
  {
   "cell_type": "code",
   "execution_count": 12,
   "id": "0633eada-e1dc-424a-a687-09da6b51fde2",
   "metadata": {},
   "outputs": [],
   "source": [
    "#Since the p-value is greater than to the significance level of 5%, we fail to reject H₀.\n",
    "#This means there is not enough statistical evidence to conclude that the average sales increased after the training.\n",
    "#Thus, it cannot be concluded that the sales force training had a significant impact on increasing sales."
   ]
  }
 ],
 "metadata": {
  "kernelspec": {
   "display_name": "Python 3 (ipykernel)",
   "language": "python",
   "name": "python3"
  },
  "language_info": {
   "codemirror_mode": {
    "name": "ipython",
    "version": 3
   },
   "file_extension": ".py",
   "mimetype": "text/x-python",
   "name": "python",
   "nbconvert_exporter": "python",
   "pygments_lexer": "ipython3",
   "version": "3.13.5"
  }
 },
 "nbformat": 4,
 "nbformat_minor": 5
}
